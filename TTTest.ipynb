{
 "cells": [
  {
   "cell_type": "markdown",
   "metadata": {
    "id": "3pDUfILWAiwd"
   },
   "source": [
    "#Generate data"
   ]
  },
  {
   "cell_type": "code",
   "execution_count": null,
   "metadata": {
    "id": "3_fxz0EP4STs"
   },
   "outputs": [],
   "source": [
    "from sklearn import datasets\n",
    "from sklearn.datasets import make_regression\n",
    "from sklearn.linear_model import Lasso\n",
    "from sklearn.model_selection import train_test_split\n",
    "import numpy as np\n",
    "import matplotlib.pyplot as plt\n",
    "\n",
    "#generate data for regression\n",
    "X,y = make_regression(n_samples=20, n_features=500, n_informative=5, noise=5)\n",
    "#split data to test and train data\n",
    "X_train, X_test, y_train, y_test = train_test_split(X, y, test_size=0.3, random_state=42)"
   ]
  },
  {
   "cell_type": "code",
   "execution_count": null,
   "metadata": {
    "colab": {
     "base_uri": "https://localhost:8080/"
    },
    "executionInfo": {
     "elapsed": 313,
     "status": "ok",
     "timestamp": 1624456045914,
     "user": {
      "displayName": "송우석",
      "photoUrl": "",
      "userId": "17544301414917834266"
     },
     "user_tz": -540
    },
    "id": "mmxjhRuZH9tL",
    "outputId": "77440b96-b252-46d4-ee6a-7b01a706806c"
   },
   "outputs": [
    {
     "name": "stdout",
     "output_type": "stream",
     "text": [
      "(20, 500)\n"
     ]
    },
    {
     "data": {
      "text/plain": [
       "(20,)"
      ]
     },
     "execution_count": 88,
     "metadata": {
      "tags": []
     },
     "output_type": "execute_result"
    }
   ],
   "source": [
    "print(X.shape)\n",
    "y.shape"
   ]
  },
  {
   "cell_type": "markdown",
   "metadata": {
    "id": "2AIkB-QpA9hQ"
   },
   "source": [
    "#LASSO Regression\n",
    "- depending on lamda"
   ]
  },
  {
   "cell_type": "code",
   "execution_count": null,
   "metadata": {
    "id": "C00xsr9n9dcX"
   },
   "outputs": [],
   "source": [
    "def MyLasso(lamda) :\n",
    "    lasso = Lasso(alpha=lamda)\n",
    "    # Fit the Lasso model\n",
    "    lasso.fit(X_train, y_train)\n",
    "    \n",
    "    # Get Expected Precision Error\n",
    "    EPE_test=(np.sum(np.array(y_test-np.matmul(X_test,lasso.coef_))**2))**(1/2) \n",
    "    EPE_train=(np.sum(np.array(y_train-np.matmul(X_train,lasso.coef_))**2))**(1/2)\n",
    "    \n",
    "    return EPE_test, EPE_train"
   ]
  },
  {
   "cell_type": "markdown",
   "metadata": {
    "id": "gkIqMmKIC4RD"
   },
   "source": [
    "#Experiment \n",
    "- to get optimized lamda\n",
    "- which makes the expected precision error minimum"
   ]
  },
  {
   "cell_type": "code",
   "execution_count": null,
   "metadata": {
    "id": "YdpGso2J4d7T"
   },
   "outputs": [],
   "source": [
    "lamda=np.arange(0,1,0.01)\n",
    "all_EPE_test=[]\n",
    "all_EPE_train=[]\n",
    "\n",
    "for i in lamda:\n",
    "  result=MyLasso(i)\n",
    "  all_EPE_test.append(result[0])\n",
    "  all_EPE_train.append(result[1])\n"
   ]
  },
  {
   "cell_type": "markdown",
   "metadata": {
    "id": "FN_bdd3MD5jW"
   },
   "source": [
    "#Result\n",
    "- Optimized lambda\n",
    "- sparse Beta"
   ]
  },
  {
   "cell_type": "code",
   "execution_count": null,
   "metadata": {
    "colab": {
     "base_uri": "https://localhost:8080/",
     "height": 388
    },
    "executionInfo": {
     "elapsed": 339,
     "status": "ok",
     "timestamp": 1624455668587,
     "user": {
      "displayName": "송우석",
      "photoUrl": "",
      "userId": "17544301414917834266"
     },
     "user_tz": -540
    },
    "id": "pT8PGKmD4ftE",
    "outputId": "d2bd678e-613d-47cf-8308-d67521c4809c"
   },
   "outputs": [
    {
     "data": {
      "image/png": "[encoded data removed]",
      "text/plain": [
       "<Figure size 432x288 with 1 Axes>"
      ]
     },
     "metadata": {
      "needs_background": "light",
      "tags": []
     },
     "output_type": "display_data"
    },
    {
     "name": "stdout",
     "output_type": "stream",
     "text": [
      "\n",
      "The lamda is  0.19\n",
      "As the result of LASSO , The number of Zero components of Beta is  481\n"
     ]
    },
    {
     "name": "stderr",
     "output_type": "stream",
     "text": [
      "/usr/local/lib/python3.7/dist-packages/sklearn/linear_model/_coordinate_descent.py:476: ConvergenceWarning: Objective did not converge. You might want to increase the number of iterations. Duality gap: 63.90019192398392, tolerance: 29.986159773298272\n",
      "  positive)\n"
     ]
    }
   ],
   "source": [
    "plt.plot(lamda,np.array(all_EPE_test)/len(y),label='Lasso')\n",
    "#plt.plot(lamda,np.array(all_EPE_train)/len(y),label='train')\n",
    "plt.legend()\n",
    "plt.xlabel('Amount of shrinkage')\n",
    "plt.ylabel('Expected Prediction Error')\n",
    "plt.show()\n",
    "print(\"\")\n",
    "print(\"The lamda is \",lamda[np.argmin(all_EPE_test)])\n",
    "\n",
    "lasso = Lasso(alpha=lamda[np.argmin(score)])\n",
    "    #\n",
    "    # Fit the Lasso model\n",
    "    #\n",
    "lasso.fit(X_train, y_train)\n",
    "count=0\n",
    "for i in range(len(lasso.coef_)):\n",
    "  if lasso.coef_[i] ==0 :\n",
    "\n",
    "    count=count+1\n",
    "\n",
    "print(\"As the result of LASSO , The number of Zero components of Beta is \",count)"
   ]
  },
  {
   "cell_type": "code",
   "execution_count": null,
   "metadata": {
    "id": "STCkWdJz_SKK"
   },
   "outputs": [],
   "source": [
    ""
   ]
  }
 ],
 "metadata": {
  "colab": {
   "authorship_tag": "ABX9TyMUBclTYqz2tm/dmoNHh3m8",
   "collapsed_sections": [],
   "name": "Lasso regression_송우석",
   "provenance": [
    {
     "file_id": "1Dof_I6YZgg0vM3IKl1F9z6v3pjBgcNQm",
     "timestamp": 1624453194318
    }
   ]
  },
  "kernelspec": {
   "display_name": "Python 3",
   "name": "python3"
  },
  "language_info": {
   "name": "python"
  }
 },
 "nbformat": 4,
 "nbformat_minor": 0
}
